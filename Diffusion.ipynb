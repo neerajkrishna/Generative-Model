import os
import numpy as np
from tensorflow.keras.datasets import mnist
from google.colab import drive
from shutil import rmtree
import matplotlib.pyplot as plt


# Mount Google Drive
drive.mount('/content/drive')

# Load MNIST dataset
(x_train, y_train), (_, _) = mnist.load_data()

# Function to save images to respective folders
def save_images(images, labels, path):
    for digit in range(10):
        digit_path = os.path.join(path, str(digit))
        os.makedirs(digit_path, exist_ok=True)
        digit_images = images[labels == digit]
        for i, img in enumerate(digit_images):
            img_path = os.path.join(digit_path, f'{digit}_{i}.png')
            plt.imsave(img_path, img, cmap='gray')

# Create datasets with reduced number of digit 0 images
reductions = [1000, 600, 300, 100, 50]
base_path = '/content/drive/My Drive/Mnist_new'

# Remove the base path if it already exists
if os.path.exists(base_path):
    rmtree(base_path)
os.makedirs(base_path, exist_ok=True)

for i, reduction in enumerate(reductions):
    dataset_path = os.path.join(base_path, f'Dataset_{i+1}')
    os.makedirs(dataset_path, exist_ok=True)

    # Get images and labels for digit 0 and reduce their number
    zero_images = x_train[y_train == 0][:reduction]
    zero_labels = y_train[y_train == 0][:reduction]

    # Get images and labels for digits 1 to 9
    other_images = x_train[y_train != 0]
    other_labels = y_train[y_train != 0]

    # Combine the images and labels
    combined_images = np.concatenate((zero_images, other_images), axis=0)
    combined_labels = np.concatenate((zero_labels, other_labels), axis=0)

    # Shuffle the combined dataset
    shuffle_indices = np.arange(combined_images.shape[0])
    np.random.shuffle(shuffle_indices)
    combined_images = combined_images[shuffle_indices]
    combined_labels = combined_labels[shuffle_indices]

    # Save images to Google Drive
    save_images(combined_images, combined_labels, dataset_path)
